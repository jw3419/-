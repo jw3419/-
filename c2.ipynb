{
 "cells": [
  {
   "cell_type": "code",
   "execution_count": 19,
   "metadata": {},
   "outputs": [],
   "source": [
    "from selenium import webdriver as wd\n",
    "from bs4 import BeautifulSoup\n",
    "import math"
   ]
  },
  {
   "cell_type": "code",
   "execution_count": 20,
   "metadata": {},
   "outputs": [],
   "source": [
    "site_url = \"https://www.google.com/search?h1=ko&source=hp&ei=bzvGXJbjDIXy8AWX65bICQ&q=%s\""
   ]
  },
  {
   "cell_type": "code",
   "execution_count": 21,
   "metadata": {},
   "outputs": [],
   "source": [
    "driver = wd.Chrome(executable_path = \"C:\\chromedriver_win32\\chromedriver.exe\")\n",
    "animalli = [\"인천공항\", \"인천공항맛집\", \"인천공항날씨\"]"
   ]
  },
  {
   "cell_type": "code",
   "execution_count": 22,
   "metadata": {},
   "outputs": [
    {
     "name": "stdout",
     "output_type": "stream",
     "text": [
      "인천공항\n",
      "https://www.google.com/search?h1=ko&source=hp&ei=bzvGXJbjDIXy8AWX65bICQ&q=인천공항\n",
      "인천국제공항\n",
      "인천국제공항 - 나무위키\n",
      "인천국제공항 - 위키백과, 우리 모두의 백과사전\n",
      "인천국제공항 제2여객터미널이 세계 최고인 이유! - VOLO\n",
      "인천공항 Incheon Airport - 홈 | Facebook\n",
      "인천공항맛집\n",
      "https://www.google.com/search?h1=ko&source=hp&ei=bzvGXJbjDIXy8AWX65bICQ&q=인천공항맛집\n",
      "인천공항 터미널 1 맛집 가이드 2018 | HYPEBEAST.KR | 하입비스트\n",
      "인천국제공항 > 쇼핑.식당 > 식당 - Incheon Airport\n",
      "놓칠 수 없는 인천공항 맛집 리스트 - 스카이스캐너-항공권, 호텔, 렌터카 ...\n",
      "인천공항 터미널 1에서 찾은 전국 맛집 리스트 | 1boon\n",
      "인천맛집,영종-인천공항맛집,추천 베스트10, 식신 대한민국 No.1 맛집 ...\n",
      "서울 인천국제공항 근처 맛집 Best 10 - TripAdvisor\n",
      "인천국제공항 제1여객터미널 맛집 추천 – 한옥 & 가업식당 : 네이버 블로그\n",
      "[인천공항맛집] 봉피양 - 비빔냉면과 철판불백정식 : 인터파크투어 프리야 ...\n",
      "'인천공항' 맛집 추천순위 | 빅데이터 맛집검색, 다이닝코드\n",
      "인천공항 식당은 맛없다?…전국 맛집 대거 들어선다 - 트래블조선 - 맛집 ...\n",
      "인천공항날씨\n",
      "https://www.google.com/search?h1=ko&source=hp&ei=bzvGXJbjDIXy8AWX65bICQ&q=인천공항날씨\n",
      "공항날씨종합 > 공항기상 > 항공기상 > 항공기상청\n",
      "항공기상청\n",
      "공항예보 > 공항기상 > 항공기상 > 항공기상청\n",
      "인천 공항의 날씨 - rp5.ru\n",
      "공항날씨종합 > 공항기상 > 항공기상 > 항공기상청\n",
      "공항예보 : 웨더아이 - 날씨로부터의 자유, 날씨와 함께하는 행복\n",
      "날씨 인천 국제 공항. 현재 날씨 | freemeteo.kr\n",
      "인천공항 - 날씨 - 매일경제\n",
      "인천광역시 시간별 날씨 - 인천시 대한민국 AccuWeather 예보 (KO)\n",
      "인천공항 - 케이웨더\n"
     ]
    }
   ],
   "source": [
    "for city in animalli :\n",
    "    print(city)\n",
    "    try :\n",
    "        cur_url = site_url % city\n",
    "        print(cur_url)\n",
    "        driver.get(cur_url)\n",
    "        driver.implicitly_wait(2)\n",
    "        html = driver.page_source\n",
    "        soup = BeautifulSoup(html, \"html.parser\")\n",
    "        notices = soup.select(\"a > h3\")\n",
    "        for n in notices :\n",
    "            print(n.text.strip())\n",
    "            \n",
    "        for\n",
    "            \n",
    "    except Exception as e :\n",
    "        print(\"오류발생\", e)"
   ]
  },
  {
   "cell_type": "code",
   "execution_count": null,
   "metadata": {},
   "outputs": [],
   "source": []
  }
 ],
 "metadata": {
  "kernelspec": {
   "display_name": "Python 3",
   "language": "python",
   "name": "python3"
  },
  "language_info": {
   "codemirror_mode": {
    "name": "ipython",
    "version": 3
   },
   "file_extension": ".py",
   "mimetype": "text/x-python",
   "name": "python",
   "nbconvert_exporter": "python",
   "pygments_lexer": "ipython3",
   "version": "3.6.8"
  }
 },
 "nbformat": 4,
 "nbformat_minor": 2
}
